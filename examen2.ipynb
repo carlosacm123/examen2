{
 "cells": [
  {
   "cell_type": "code",
   "execution_count": 36,
   "metadata": {},
   "outputs": [],
   "source": [
    "import pandas as pd"
   ]
  },
  {
   "cell_type": "code",
   "execution_count": 44,
   "metadata": {},
   "outputs": [],
   "source": [
    "atus1997 = pd.read_csv(r\"C:\\Users\\carl0\\OneDrive\\Desktop\\atus\\conjunto_de_datos\\atus_anual_1997.csv\")\n",
    "atus1998 = pd.read_csv(r\"C:\\Users\\carl0\\OneDrive\\Desktop\\atus\\conjunto_de_datos\\atus_anual_1998.csv\")\n",
    "atus1999 = pd.read_csv(r\"C:\\Users\\carl0\\OneDrive\\Desktop\\atus\\conjunto_de_datos\\atus_anual_1999.csv\")\n",
    "atus2000 = pd.read_csv(r\"C:\\Users\\carl0\\OneDrive\\Desktop\\atus\\conjunto_de_datos\\atus_anual_2000.csv\")\n",
    "atus2001 = pd.read_csv(r\"C:\\Users\\carl0\\OneDrive\\Desktop\\atus\\conjunto_de_datos\\atus_anual_2001.csv\")\n",
    "atus2002 = pd.read_csv(r\"C:\\Users\\carl0\\OneDrive\\Desktop\\atus\\conjunto_de_datos\\atus_anual_2002.csv\")\n",
    "atus2003 = pd.read_csv(r\"C:\\Users\\carl0\\OneDrive\\Desktop\\atus\\conjunto_de_datos\\atus_anual_2003.csv\")\n",
    "atus2004 = pd.read_csv(r\"C:\\Users\\carl0\\OneDrive\\Desktop\\atus\\conjunto_de_datos\\atus_anual_2004.csv\")\n",
    "atus2005 = pd.read_csv(r\"C:\\Users\\carl0\\OneDrive\\Desktop\\atus\\conjunto_de_datos\\atus_anual_2005.csv\")\n",
    "atus2006 = pd.read_csv(r\"C:\\Users\\carl0\\OneDrive\\Desktop\\atus\\conjunto_de_datos\\atus_anual_2006.csv\")\n",
    "atus2007 = pd.read_csv(r\"C:\\Users\\carl0\\OneDrive\\Desktop\\atus\\conjunto_de_datos\\atus_anual_2007.csv\")\n",
    "atus2008 = pd.read_csv(r\"C:\\Users\\carl0\\OneDrive\\Desktop\\atus\\conjunto_de_datos\\atus_anual_2008.csv\")\n",
    "atus2009 = pd.read_csv(r\"C:\\Users\\carl0\\OneDrive\\Desktop\\atus\\conjunto_de_datos\\atus_anual_2009.csv\")\n",
    "atus2010 = pd.read_csv(r\"C:\\Users\\carl0\\OneDrive\\Desktop\\atus\\conjunto_de_datos\\atus_anual_2010.csv\")\n",
    "atus2011 = pd.read_csv(r\"C:\\Users\\carl0\\OneDrive\\Desktop\\atus\\conjunto_de_datos\\atus_anual_2011.csv\")\n",
    "atus2012 = pd.read_csv(r\"C:\\Users\\carl0\\OneDrive\\Desktop\\atus\\conjunto_de_datos\\atus_anual_2012.csv\")\n",
    "atus2013 = pd.read_csv(r\"C:\\Users\\carl0\\OneDrive\\Desktop\\atus\\conjunto_de_datos\\atus_anual_2013.csv\")\n",
    "atus2014 = pd.read_csv(r\"C:\\Users\\carl0\\OneDrive\\Desktop\\atus\\conjunto_de_datos\\atus_anual_2014.csv\")\n",
    "atus2015 = pd.read_csv(r\"C:\\Users\\carl0\\OneDrive\\Desktop\\atus\\conjunto_de_datos\\atus_anual_2015.csv\")\n",
    "atus2016 = pd.read_csv(r\"C:\\Users\\carl0\\OneDrive\\Desktop\\atus\\conjunto_de_datos\\atus_anual_2016.csv\")\n",
    "atus2017 = pd.read_csv(r\"C:\\Users\\carl0\\OneDrive\\Desktop\\atus\\conjunto_de_datos\\atus_anual_2017.csv\")\n",
    "atus2018 = pd.read_csv(r\"C:\\Users\\carl0\\OneDrive\\Desktop\\atus\\conjunto_de_datos\\atus_anual_2018.csv\")\n",
    "atus2019 = pd.read_csv(r\"C:\\Users\\carl0\\OneDrive\\Desktop\\atus\\conjunto_de_datos\\atus_anual_2019.csv\")\n",
    "atus2020 = pd.read_csv(r\"C:\\Users\\carl0\\OneDrive\\Desktop\\atus\\conjunto_de_datos\\atus_anual_2020.csv\")\n",
    "atus2021 = pd.read_csv(r\"C:\\Users\\carl0\\OneDrive\\Desktop\\atus\\conjunto_de_datos\\atus_anual_2021.csv\")\n",
    "atus2022 = pd.read_csv(r\"C:\\Users\\carl0\\OneDrive\\Desktop\\atus\\conjunto_de_datos\\atus_anual_2022.csv\")\n"
   ]
  },
  {
   "cell_type": "markdown",
   "metadata": {},
   "source": [
    "1. Mostrar los tipos de accidentes por cada estado"
   ]
  },
  {
   "cell_type": "code",
   "execution_count": null,
   "metadata": {},
   "outputs": [],
   "source": []
  },
  {
   "cell_type": "markdown",
   "metadata": {},
   "source": [
    "2. Mostrar la cantidad de accidentes por dia de la semana en Sinaloa por edad del conductor"
   ]
  },
  {
   "cell_type": "code",
   "execution_count": null,
   "metadata": {},
   "outputs": [],
   "source": []
  },
  {
   "cell_type": "markdown",
   "metadata": {},
   "source": [
    "3. Mostrar el ranking de accidentes por mes por estado en una animacion que muestre el comportamiento desde 1997 hasta 2023"
   ]
  },
  {
   "cell_type": "code",
   "execution_count": null,
   "metadata": {},
   "outputs": [],
   "source": []
  },
  {
   "cell_type": "markdown",
   "metadata": {},
   "source": [
    "4. Mostrar la cantidad de accidentes por municipio del estado de Sinaloa en los ultimos 10 años"
   ]
  },
  {
   "cell_type": "code",
   "execution_count": null,
   "metadata": {},
   "outputs": [],
   "source": []
  },
  {
   "cell_type": "markdown",
   "metadata": {},
   "source": [
    "5. Mostrar la cantidad de accidentes distinguiendo entre dias festivos, fin de semana y dia normal"
   ]
  },
  {
   "cell_type": "code",
   "execution_count": null,
   "metadata": {},
   "outputs": [],
   "source": []
  }
 ],
 "metadata": {
  "kernelspec": {
   "display_name": "Python 3",
   "language": "python",
   "name": "python3"
  },
  "language_info": {
   "codemirror_mode": {
    "name": "ipython",
    "version": 3
   },
   "file_extension": ".py",
   "mimetype": "text/x-python",
   "name": "python",
   "nbconvert_exporter": "python",
   "pygments_lexer": "ipython3",
   "version": "3.11.9"
  }
 },
 "nbformat": 4,
 "nbformat_minor": 2
}
